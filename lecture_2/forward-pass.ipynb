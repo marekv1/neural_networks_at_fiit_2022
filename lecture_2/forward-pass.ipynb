{
 "cells": [
  {
   "cell_type": "markdown",
   "metadata": {},
   "source": [
    "# Priamy prechod\n",
    "\n",
    "Spravime si jednoduchy priamy prechod hard-coded sietou.\n"
   ]
  },
  {
   "cell_type": "markdown",
   "metadata": {},
   "source": [
    "Nas priklad bude pozostavat z nasledovnych krokov:\n",
    "\n",
    "1. Priprava datasetu\n",
    "2. Inicializacia parametrov siete\n",
    "3. Priamy prechod\n",
    "4. Spocitanie hodnoty cost funkcie J\n"
   ]
  },
  {
   "cell_type": "code",
   "execution_count": 1,
   "metadata": {},
   "outputs": [],
   "source": [
    "import numpy as np\n",
    "import pandas as pd\n",
    "\n",
    "from backstage.utils import dataset_Circles, draw_DecisionBoundary\n",
    "\n",
    "# Inicializujeme random seed, aby sa nam opakovali rovnake vysledky z randomu\n",
    "np.random.seed(10)\n",
    "\n"
   ]
  },
  {
   "cell_type": "markdown",
   "metadata": {},
   "source": [
    "## 1. Priprava datasetu\n",
    "\n",
    "Budeme pracovat s Circles datasetom, a teraz nam bude stacit 10 vzoriek.\n"
   ]
  },
  {
   "cell_type": "code",
   "execution_count": 2,
   "metadata": {},
   "outputs": [
    {
     "name": "stdout",
     "output_type": "stream",
     "text": [
      "Number of samples in the dataset:  10\n",
      "Number of input features:          2\n",
      "Number of output features:         1\n",
      "X:         [[ 0.54264129 -0.9584961   0.26729647  0.49760777 -0.00298598 -0.55040671\n",
      "  -0.60387427  0.52106142 -0.66177833 -0.82332037]\n",
      " [ 0.37071964  0.90678669 -0.99210347  0.02438453  0.62524192  0.22505213\n",
      "   0.44351063 -0.41624786  0.83554825  0.42915157]]\n",
      "Y:         [[0. 1. 1. 0. 0. 0. 1. 0. 1. 1.]]\n"
     ]
    }
   ],
   "source": [
    "\n",
    "# Pocet vzoriek v trenovacej mnozine\n",
    "m = 10\n",
    "\n",
    "# 1. Pripravime si dataset\n",
    "X, Y = dataset_Circles(m)\n",
    "\n",
    "# Vypiseme parametre nasho nadasetu\n",
    "nx, m = X.shape\n",
    "ny, _ = Y.shape\n",
    "\n",
    "print('Number of samples in the dataset: ', m)\n",
    "print('Number of input features:         ', nx)\n",
    "print('Number of output features:        ', ny)\n",
    "print('X:        ', X)\n",
    "print('Y:        ', Y)\n",
    "\n"
   ]
  },
  {
   "cell_type": "markdown",
   "metadata": {},
   "source": [
    "## 2. Inicializacia parametrov siete\n",
    "\n",
    "Budeme pouzivat dvojvrstvovu siet, ktora bude obsahovat 3 neurony na skrytej vrstve. Pre obidve vrstvy nainicializujeme maticu vah a biasu. Vahy budeme inicializovat nahodne, Bias hodnotou 0."
   ]
  },
  {
   "cell_type": "code",
   "execution_count": 3,
   "metadata": {},
   "outputs": [
    {
     "name": "stdout",
     "output_type": "stream",
     "text": [
      "W1: \n",
      " [[ 1.30847308  0.19501328]\n",
      " [ 0.40020999 -0.33763234]\n",
      " [ 1.25647226 -0.7319695 ]] \n",
      "\n",
      "b1: \n",
      " [[0.]\n",
      " [0.]\n",
      " [0.]] \n",
      "\n",
      "W2: \n",
      " [[ 0.66023155 -0.35087189 -0.93943336]] \n",
      "\n",
      "b2: \n",
      " [[0.]] \n",
      "\n"
     ]
    }
   ],
   "source": [
    "# Pocet neuronov skrytej vrstvy\n",
    "nHidden = 3\n",
    "\n",
    "# 2. Inicializacia matic pre skrytu vrstvu W1, b1 a potom aj pre poslednu vrstvu W2, b2\n",
    "W1 = np.random.randn(nHidden, nx)                  # Normal distribution\n",
    "b1 = np.zeros(shape=(nHidden, 1), dtype=float)\n",
    "\n",
    "W2 = np.random.randn(ny, nHidden)                  # Normal distribution\n",
    "b2 = np.zeros(shape=(ny, 1), dtype=float)\n",
    "\n",
    "print('W1: \\n', W1, '\\n')\n",
    "print('b1: \\n', b1, '\\n')\n",
    "print('W2: \\n', W2, '\\n')\n",
    "print('b2: \\n', b2, '\\n')\n"
   ]
  },
  {
   "cell_type": "markdown",
   "metadata": {},
   "source": [
    "## 3. Priamy prechod\n",
    "\n",
    "V nasom priklade budeme pouzivat ReLU aktivacnu funkciu pre skrytu vrstvu, a Sigmoid aktivacnu funkciu pre poslednu vrstvu.\n"
   ]
  },
  {
   "cell_type": "code",
   "execution_count": 4,
   "metadata": {},
   "outputs": [],
   "source": [
    "def relu(z):\n",
    "    return np.maximum(z, 0)                 # Element-wise !\n",
    "\n",
    "def sigmoid(z):\n",
    "    return 1.0 / (1.0 + np.exp(-z))         # Element-wise !\n"
   ]
  },
  {
   "cell_type": "markdown",
   "metadata": {},
   "source": [
    "Teraz mozeme napisat funkciu, ktora spocita priamy prechod  sietou\n"
   ]
  },
  {
   "cell_type": "code",
   "execution_count": 5,
   "metadata": {},
   "outputs": [],
   "source": [
    "def forward(X):\n",
    "    # Vstup je aktivacia nultej vrstvy\n",
    "    A0 = X\n",
    "\n",
    "    # Linearna funkcia a aktivacia pre prvu vrstvu\n",
    "    # print('W1=',W1)\n",
    "    # print('A0=',A0)\n",
    "    # 3x2 mul 2x10 => 3x10\n",
    "    Z1 = np.matmul(W1, A0) + b1\n",
    "    # print('Z1 =',Z1.shape)\n",
    "    A1 = relu(Z1)\n",
    "    # print('A1 =',A1)\n",
    "\n",
    "    # Linearna funkcia a aktivacia pre druhu vrstvu\n",
    "    # print(f'W2={W2.shape}')\n",
    "    # print(f'A1={A1.shape}')\n",
    "    Z2 = np.matmul(W2, A1) + b2\n",
    "    A2 = sigmoid(Z2)\n",
    "    return A2\n",
    "\n",
    "# forward(X)"
   ]
  },
  {
   "cell_type": "code",
   "execution_count": 6,
   "metadata": {},
   "outputs": [
    {
     "name": "stdout",
     "output_type": "stream",
     "text": [
      "Ground truth Y: \n",
      " [[0. 1. 1. 0. 0. 0. 1. 0. 1. 1.]] \n",
      "\n",
      "Prediction YHat: \n",
      " [[0.52463932 0.5        0.25930161 0.44903745 0.51947084 0.5\n",
      "  0.5        0.34814469 0.5        0.5       ]] \n",
      "\n"
     ]
    }
   ],
   "source": [
    "# Vyskusame spocitat priamy prechod nasou trenovacou mnozinou\n",
    "YHat = forward(X)\n",
    "print('Ground truth Y: \\n', Y, '\\n')\n",
    "print('Prediction YHat: \\n', YHat, '\\n')\n",
    "\n"
   ]
  },
  {
   "cell_type": "code",
   "execution_count": 7,
   "metadata": {},
   "outputs": [
    {
     "data": {
      "image/png": "[encoded data removed]",
      "text/plain": [
       "<Figure size 648x648 with 1 Axes>"
      ]
     },
     "metadata": {
      "needs_background": "light"
     },
     "output_type": "display_data"
    }
   ],
   "source": [
    "# Nakreslime decision boundary pre nasu funkciu\n",
    "draw_DecisionBoundary(X, Y, forward)\n"
   ]
  },
  {
   "cell_type": "markdown",
   "metadata": {},
   "source": [
    "## 4. Spocitanie cost funkcie J\n",
    "\n",
    "Ako posledny krok ideme spocitat hodnotu cost funkcie J. Pouzijeme nato stratovu funkciu Logistic Loss.\n"
   ]
  },
  {
   "cell_type": "code",
   "execution_count": 8,
   "metadata": {},
   "outputs": [],
   "source": [
    "def logistic_loss(yhat, y):\n",
    "    # np.log = prirodzeny logaritmus so zakladom e\n",
    "    return -(y*np.log(yhat) + (1-y)*np.log(1-yhat))    \n"
   ]
  },
  {
   "cell_type": "code",
   "execution_count": 9,
   "metadata": {},
   "outputs": [],
   "source": [
    "def cost(yhat, y):\n",
    "    # Zisime pocet trenovacich vzoriek\n",
    "    ny, m = y.shape\n",
    "    J = (1.0 / m) * np.sum( logistic_loss(yhat, y) )\n",
    "\n",
    "    # Ekvivalent  \n",
    "    # J = np.mean(logistic_loss(yhat, y))\n",
    "    return J\n"
   ]
  },
  {
   "cell_type": "code",
   "execution_count": 10,
   "metadata": {},
   "outputs": [
    {
     "name": "stdout",
     "output_type": "stream",
     "text": [
      "0.7316069190881959\n"
     ]
    }
   ],
   "source": [
    "# Spocitame hodnotu cost funkcie\n",
    "J = cost(YHat, Y)\n",
    "print(J)"
   ]
  },
  {
   "cell_type": "code",
   "execution_count": null,
   "metadata": {},
   "outputs": [],
   "source": []
  }
 ],
 "metadata": {
  "kernelspec": {
   "display_name": "Python 3.8.5 64-bit ('tf': conda)",
   "metadata": {
    "interpreter": {
     "hash": "31d56fa8489417c6958bc95e73b8d3766816132fea40e62e4bcabc0084854ff7"
    }
   },
   "name": "python3"
  },
  "language_info": {
   "codemirror_mode": {
    "name": "ipython",
    "version": 3
   },
   "file_extension": ".py",
   "mimetype": "text/x-python",
   "name": "python",
   "nbconvert_exporter": "python",
   "pygments_lexer": "ipython3",
   "version": "3.8.12"
  },
  "orig_nbformat": 2
 },
 "nbformat": 4,
 "nbformat_minor": 2
}
